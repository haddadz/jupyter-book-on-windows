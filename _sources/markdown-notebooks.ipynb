{
 "cells": [
  {
   "cell_type": "markdown",
   "id": "779614c9",
   "metadata": {},
   "source": [
    "# Notebooks on Windows OS\n",
    "\n",
    "Jupyter Book also works on Windows OS with fairly minimum effort to setup. There are several methods to do so and in this guide I'll highlight one particular way.\n",
    "Since it is claimed that Jupyter Notebook is not as easy to to work on Windows OS. \n",
    "\n",
    "Below listing all possible ways:\n",
    "\n",
    "1. Using Python or Conda installation locally on Windows OS. \n",
    "2. Using a pre-built Docker image or creating your own.\n",
    "3. Using a virtual machine.\n",
    "4. Using Windows Subsystem for Linux (WSL) & Linux OS from the Microsoft Store (i.e. Ubuntu).\n",
    "\n",
    "I ended up going with #1 and will demonstrate what's needed in this guide. \n",
    "\n",
    "## What's needed\n",
    "\n",
    "Here is my current setup:\n",
    "\n",
    "1. Windows 10 (Microsoft Windows [Version 10.0.19044.1826])\n",
    "2. Python 3.10.6 app from the Microsoft Store [Available here](https://www.microsoft.com/store/productId/9PJPW5LDXLZ5)\n",
    "\n",
    "That's all that is needed to get started! If you don't have Python installed, please use the above link to install. \n",
    "\n",
    "## Install Jupyter Book"
   ]
  },
  {
   "cell_type": "code",
   "execution_count": 1,
   "id": "4c157735",
   "metadata": {},
   "outputs": [],
   "source": [
    "# pip install jupyter-book pandas plotly sphinx-thebe"
   ]
  },
  {
   "cell_type": "markdown",
   "id": "72681cbb",
   "metadata": {},
   "source": [
    "## Steps\n",
    "\n",
    "Once you have installed the python libraries using pip, run the following commands in Command Prompt (cmd):"
   ]
  },
  {
   "cell_type": "code",
   "execution_count": 2,
   "id": "c543564a",
   "metadata": {},
   "outputs": [],
   "source": [
    "# C:\\Users\\{user}\\AppData\\Local\\Packages\\PythonSoftwareFoundation.Python.3.10_qbz5n2kfra8p0\\LocalCache\\local-packages\\Python310\\Scripts\\jupyter-book create jupiter"
   ]
  },
  {
   "cell_type": "markdown",
   "id": "fbfb3454",
   "metadata": {},
   "source": [
    "Navigate to the directory and build the book using the following link:"
   ]
  },
  {
   "cell_type": "code",
   "execution_count": 3,
   "id": "c354a2ee",
   "metadata": {},
   "outputs": [
    {
     "ename": "SyntaxError",
     "evalue": "invalid syntax (1955889377.py, line 1)",
     "output_type": "error",
     "traceback": [
      "\u001b[1;36m  Input \u001b[1;32mIn [3]\u001b[1;36m\u001b[0m\n\u001b[1;33m    > C:\\Users\\{user}\\AppData\\Local\\Packages\\PythonSoftwareFoundation.Python.3.10_qbz5n2kfra8p0\\LocalCache\\local-packages\\Python310\\Scripts\\jupyter-book build ./\u001b[0m\n\u001b[1;37m    ^\u001b[0m\n\u001b[1;31mSyntaxError\u001b[0m\u001b[1;31m:\u001b[0m invalid syntax\n"
     ]
    }
   ],
   "source": [
    "> C:\\Users\\{user}\\AppData\\Local\\Packages\\PythonSoftwareFoundation.Python.3.10_qbz5n2kfra8p0\\LocalCache\\local-packages\\Python310\\Scripts\\jupyter-book build ./"
   ]
  },
  {
   "cell_type": "markdown",
   "id": "425f5f02",
   "metadata": {},
   "source": [
    "The trick here was to locate the Python folder which contains the jupyter-book or adding it to your OS env path. If you have insatlled python or conda using a different method, locat ethe jupyter-book folder accordingly."
   ]
  },
  {
   "cell_type": "code",
   "execution_count": null,
   "id": "02476e64",
   "metadata": {},
   "outputs": [],
   "source": [
    "> dir \"\\jupyter-book\" /s /p"
   ]
  }
 ],
 "metadata": {
  "jupytext": {
   "cell_metadata_filter": "-all",
   "formats": "md:myst",
   "text_representation": {
    "extension": ".md",
    "format_name": "myst",
    "format_version": 0.13,
    "jupytext_version": "1.11.5"
   }
  },
  "kernelspec": {
   "display_name": "Python 3",
   "language": "python",
   "name": "python3"
  },
  "language_info": {
   "codemirror_mode": {
    "name": "ipython",
    "version": 3
   },
   "file_extension": ".py",
   "mimetype": "text/x-python",
   "name": "python",
   "nbconvert_exporter": "python",
   "pygments_lexer": "ipython3",
   "version": "3.10.6"
  },
  "source_map": [
   14,
   42,
   44,
   50,
   52,
   55,
   57,
   60
  ]
 },
 "nbformat": 4,
 "nbformat_minor": 5
}