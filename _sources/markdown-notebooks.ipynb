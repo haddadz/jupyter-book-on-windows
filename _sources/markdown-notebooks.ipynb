{
 "cells": [
  {
   "cell_type": "markdown",
   "id": "80ea7d7d",
   "metadata": {},
   "source": [
    "# Notebooks on Windows OS\n",
    "\n",
    "Jupyter Book also works on Windows OS and for easy to setup. There are several methods to do and in this guide I'll show how to setup using one of the many methods.\n",
    "Since it was difficult to get Jupyter Notebook to work on Windows. \n",
    "\n",
    "Below listing all possible ways:\n",
    "\n",
    "1. Using Python or Conda installation locally on a Windows OS machine. \n",
    "2. Using a pre-built Docker image or creating your own.\n",
    "3. Using a Virtual Machine.\n",
    "4. Using Windows Subsystem for Linux (WSL) & Linux OS from Microsoft Store (i.e. Ubuntu).\n",
    "\n",
    "I ended up going with #1 and will demonstrate what's needed in this guide. \n",
    "\n",
    "## What's needed\n",
    "\n",
    "Here is my current setup:\n",
    "\n",
    "1. Windows 10 (Microsoft Windows [Version 10.0.19044.1826])\n",
    "2. Python 3.10.6 app from the Microsoft Store [Available here] (https://www.microsoft.com/store/productId/9PJPW5LDXLZ5)\n",
    "\n",
    "That's all that is needed to get started! If you don't have Python installed, please use the above link to install. \n",
    "\n",
    "## Install Jupyter Book"
   ]
  },
  {
   "cell_type": "code",
   "execution_count": 1,
   "id": "c65d9869",
   "metadata": {},
   "outputs": [
    {
     "ename": "SyntaxError",
     "evalue": "invalid syntax (3396759173.py, line 1)",
     "output_type": "error",
     "traceback": [
      "\u001b[1;36m  Input \u001b[1;32mIn [1]\u001b[1;36m\u001b[0m\n\u001b[1;33m    > pip install jupyter-book pandas plotly sphinx-thebe\u001b[0m\n\u001b[1;37m    ^\u001b[0m\n\u001b[1;31mSyntaxError\u001b[0m\u001b[1;31m:\u001b[0m invalid syntax\n"
     ]
    }
   ],
   "source": [
    "> pip install jupyter-book pandas plotly sphinx-thebe"
   ]
  },
  {
   "cell_type": "markdown",
   "id": "e3fe3d34",
   "metadata": {},
   "source": [
    "## Steps\n",
    "\n",
    "With MyST Markdown, you can define code cells with a directive like so:"
   ]
  },
  {
   "cell_type": "code",
   "execution_count": null,
   "id": "e62be8cf",
   "metadata": {},
   "outputs": [],
   "source": [
    "> C:\\Users\\{user}\\AppData\\Local\\Packages\\PythonSoftwareFoundation.Python.3.10_qbz5n2kfra8p0\\LocalCache\\local-packages\\Python310\\Scripts\\jupyter-book create jupiter"
   ]
  },
  {
   "cell_type": "markdown",
   "id": "db3c9b26",
   "metadata": {},
   "source": [
    "Navigate to the directory and build the book"
   ]
  },
  {
   "cell_type": "code",
   "execution_count": null,
   "id": "294af9b3",
   "metadata": {},
   "outputs": [],
   "source": [
    "> C:\\Users\\{user}\\AppData\\Local\\Packages\\PythonSoftwareFoundation.Python.3.10_qbz5n2kfra8p0\\LocalCache\\local-packages\\Python310\\Scripts\\jupyter-book build ./"
   ]
  }
 ],
 "metadata": {
  "jupytext": {
   "cell_metadata_filter": "-all",
   "formats": "md:myst",
   "text_representation": {
    "extension": ".md",
    "format_name": "myst",
    "format_version": 0.13,
    "jupytext_version": "1.11.5"
   }
  },
  "kernelspec": {
   "display_name": "Python 3",
   "language": "python",
   "name": "python3"
  },
  "language_info": {
   "codemirror_mode": {
    "name": "ipython",
    "version": 3
   },
   "file_extension": ".py",
   "mimetype": "text/x-python",
   "name": "python",
   "nbconvert_exporter": "python",
   "pygments_lexer": "ipython3",
   "version": "3.10.6"
  },
  "source_map": [
   14,
   42,
   44,
   50,
   52,
   55
  ]
 },
 "nbformat": 4,
 "nbformat_minor": 5
}